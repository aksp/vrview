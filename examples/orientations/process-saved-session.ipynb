{
 "cells": [
  {
   "cell_type": "code",
   "execution_count": 16,
   "metadata": {
    "collapsed": false
   },
   "outputs": [],
   "source": [
    "import json\n",
    "\n",
    "with open(\"steve-walking-rotation.json\") as f: \n",
    "    j = json.load(f)\n",
    "    out_j = []\n",
    "    last_rotation = 10000\n",
    "    for l in j: \n",
    "        \n",
    "        if l[\"rotation\"] != last_rotation: \n",
    "            out_j.append({\n",
    "                    \"time\": float(l[\"timestamp\"] - 1484941465098)/1000.0,\n",
    "                    \"rotation\": -1*l[\"rotation\"] + 90,\n",
    "                })\n",
    "            last_rotation = l[\"rotation\"]\n",
    "\n",
    "with open(\"steve-walking-rotation-out.json\", \"w\") as f: \n",
    "    json.dump(out_j, f, indent=4)"
   ]
  },
  {
   "cell_type": "code",
   "execution_count": 1,
   "metadata": {
    "collapsed": false
   },
   "outputs": [
    {
     "data": {
      "text/plain": [
       "3.141592653589793"
      ]
     },
     "execution_count": 1,
     "metadata": {},
     "output_type": "execute_result"
    }
   ],
   "source": [
    "# convert rotation json to new json format\n",
    "# format found here: https://docs.google.com/document/d/1miKwDYnjdYtGWoPyTIBrjXlq3iuWFY5paQ5gzWWdKsk/edit\n",
    "\n",
    "import json\n",
    "import math\n",
    "math.pi"
   ]
  },
  {
   "cell_type": "code",
   "execution_count": 7,
   "metadata": {
    "collapsed": false
   },
   "outputs": [],
   "source": [
    "with open(\"rotations.json\") as f: \n",
    "    j = json.load(f)\n",
    "    new_rotations = []\n",
    "    for i in range(len(j)): \n",
    "        if i != 0: \n",
    "            r1 = j[i - 1]\n",
    "            r2 = j[i]\n",
    "            \n",
    "            r1_f = ( (r1[\"rotation\"]+180) / 360.0) * 2.0 * math.pi\n",
    "            r1_s = ( (r1[\"rotation\"]) / 360.0) * 2.0 * math.pi\n",
    "            \n",
    "            new_rotation = {\"orientations\": [r1_f, r1_s], \n",
    "                           \"start\": r1[\"time\"],\n",
    "                           \"end\": r2[\"time\"]}\n",
    "            new_rotations.append(new_rotation)\n",
    "            \n",
    "    lr_f = ((j[-1][\"rotation\"]+180) / 360.0) * 2.0 * math.pi\n",
    "    lr_s = ((j[-1][\"rotation\"]) / 360.0) * 2.0 * math.pi\n",
    "    \n",
    "    last_rotation = {\"orientations\": [lr_f, lr_s], \n",
    "                           \"start\": j[-1][\"time\"],\n",
    "                           \"end\": 900000 }\n",
    "    new_rotations.append(last_rotation)\n",
    "    \n",
    "    new_subtitles = []\n",
    "    for rotation in new_rotations: \n",
    "        new_subtitles.append({\"start\": rotation[\"start\"], \"end\": rotation[\"end\"], \"text\": \"\"})\n",
    "        \n",
    "    out_json = {\"videos\": [{\"fn\": \"../video/nocuts.mp4\"}],\n",
    "               \"subtitles\": new_subtitles, \n",
    "               \"orientation\": new_rotations}\n",
    "    with open(\"spec-files/nocuts.json\", \"w\") as f: \n",
    "        json.dump(out_json, f, indent=4)\n",
    "\n",
    "#     with open(\"spec-files/nocuts.json\") as f_old: \n",
    "#         j_old = json.load(f_old)\n",
    "#         j_old[\"orientation\"] = new_rotations\n",
    "#         f_old.close()\n",
    "        \n",
    "#     with open(\"spec-files/nocuts.json\", \"w\") as f_new:\n",
    "#         json.dump(j_old, f, indent=4)"
   ]
  },
  {
   "cell_type": "code",
   "execution_count": null,
   "metadata": {
    "collapsed": true
   },
   "outputs": [],
   "source": []
  }
 ],
 "metadata": {
  "kernelspec": {
   "display_name": "Python 2",
   "language": "python",
   "name": "python2"
  },
  "language_info": {
   "codemirror_mode": {
    "name": "ipython",
    "version": 2
   },
   "file_extension": ".py",
   "mimetype": "text/x-python",
   "name": "python",
   "nbconvert_exporter": "python",
   "pygments_lexer": "ipython2",
   "version": "2.7.8"
  }
 },
 "nbformat": 4,
 "nbformat_minor": 0
}
