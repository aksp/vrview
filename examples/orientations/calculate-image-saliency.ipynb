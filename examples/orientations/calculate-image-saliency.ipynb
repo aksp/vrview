{
 "cells": [
  {
   "cell_type": "code",
   "execution_count": 2,
   "metadata": {
    "collapsed": false
   },
   "outputs": [
    {
     "name": "stdout",
     "output_type": "stream",
     "text": [
      "['behindthefence', 'cherynobl', 'download-new-examples.ipynb', 'goproad', 'grandteton', 'internetsurfer', 'invisible', 'mentos', 'nationalparks', 'pacificnorthwest', 'reef', 'seals', 'sharks', 'surreal', 'tokyo', 'viking', 'worldwonder']\n",
      "[]\n",
      "['behindthefence', 'cherynobl', 'download-new-examples.ipynb', 'goproad', 'grandteton', 'internetsurfer', 'invisible', 'mentos', 'nationalparks', 'pacificnorthwest', 'reef', 'seals', 'sharks', 'surreal', 'tokyo', 'viking', 'worldwonder']\n",
      "processing video behindthefence\n",
      "processing video cherynobl\n",
      "processing video download-new-examples.ipynb\n",
      "processing video goproad\n",
      "processing video grandteton\n",
      "processing video internetsurfer\n",
      "processing video invisible\n",
      "processing video mentos\n",
      "processing video nationalparks\n",
      "processing video pacificnorthwest\n",
      "processing video reef\n",
      "processing video seals\n",
      "processing video sharks\n",
      "processing video surreal\n",
      "processing video tokyo\n",
      "processing video viking\n"
     ]
    },
    {
     "ename": "KeyboardInterrupt",
     "evalue": "",
     "output_type": "error",
     "traceback": [
      "\u001b[0;31m---------------------------------------------------------------------------\u001b[0m",
      "\u001b[0;31mKeyboardInterrupt\u001b[0m                         Traceback (most recent call last)",
      "\u001b[0;32m<ipython-input-2-4c778badfdf3>\u001b[0m in \u001b[0;36m<module>\u001b[0;34m()\u001b[0m\n\u001b[1;32m      1\u001b[0m \u001b[0;32mimport\u001b[0m \u001b[0mhelpers\u001b[0m \u001b[0;32mas\u001b[0m \u001b[0mh\u001b[0m\u001b[0;34m\u001b[0m\u001b[0m\n\u001b[0;32m----> 2\u001b[0;31m \u001b[0mh\u001b[0m\u001b[0;34m.\u001b[0m\u001b[0mcreate_small_videos\u001b[0m\u001b[0;34m(\u001b[0m\u001b[0;34m)\u001b[0m\u001b[0;34m\u001b[0m\u001b[0m\n\u001b[0m",
      "\u001b[0;32m/Users/apavel/Sites/360-video-project/vrview/examples/orientations/helpers.py\u001b[0m in \u001b[0;36mcreate_small_videos\u001b[0;34m(bases)\u001b[0m\n\u001b[1;32m    203\u001b[0m         \u001b[0mfn_out\u001b[0m \u001b[0;34m=\u001b[0m \u001b[0;34m\"new-videos/\"\u001b[0m \u001b[0;34m+\u001b[0m \u001b[0mvideo\u001b[0m \u001b[0;34m+\u001b[0m \u001b[0;34m\"-small.mp4\"\u001b[0m\u001b[0;34m\u001b[0m\u001b[0m\n\u001b[1;32m    204\u001b[0m \u001b[0;34m\u001b[0m\u001b[0m\n\u001b[0;32m--> 205\u001b[0;31m         \u001b[0msubprocess\u001b[0m\u001b[0;34m.\u001b[0m\u001b[0mcall\u001b[0m\u001b[0;34m(\u001b[0m\u001b[0;34m[\u001b[0m\u001b[0;34m\"ffmpeg\"\u001b[0m\u001b[0;34m,\u001b[0m \u001b[0;34m\"-i\"\u001b[0m\u001b[0;34m,\u001b[0m \u001b[0mfn_in\u001b[0m\u001b[0;34m,\u001b[0m \u001b[0;34m\"-vf\"\u001b[0m\u001b[0;34m,\u001b[0m \u001b[0;34m\"scale=500:-2\"\u001b[0m\u001b[0;34m,\u001b[0m \u001b[0mfn_out\u001b[0m\u001b[0;34m]\u001b[0m\u001b[0;34m)\u001b[0m\u001b[0;34m\u001b[0m\u001b[0m\n\u001b[0m\u001b[1;32m    206\u001b[0m \u001b[0;34m\u001b[0m\u001b[0m\n\u001b[1;32m    207\u001b[0m \u001b[0;31m# attempting optical flow on one 360 video\u001b[0m\u001b[0;34m\u001b[0m\u001b[0;34m\u001b[0m\u001b[0m\n",
      "\u001b[0;32m/usr/local/Cellar/python/2.7.8_2/Frameworks/Python.framework/Versions/2.7/lib/python2.7/subprocess.pyc\u001b[0m in \u001b[0;36mcall\u001b[0;34m(*popenargs, **kwargs)\u001b[0m\n\u001b[1;32m    520\u001b[0m     \u001b[0mretcode\u001b[0m \u001b[0;34m=\u001b[0m \u001b[0mcall\u001b[0m\u001b[0;34m(\u001b[0m\u001b[0;34m[\u001b[0m\u001b[0;34m\"ls\"\u001b[0m\u001b[0;34m,\u001b[0m \u001b[0;34m\"-l\"\u001b[0m\u001b[0;34m]\u001b[0m\u001b[0;34m)\u001b[0m\u001b[0;34m\u001b[0m\u001b[0m\n\u001b[1;32m    521\u001b[0m     \"\"\"\n\u001b[0;32m--> 522\u001b[0;31m     \u001b[0;32mreturn\u001b[0m \u001b[0mPopen\u001b[0m\u001b[0;34m(\u001b[0m\u001b[0;34m*\u001b[0m\u001b[0mpopenargs\u001b[0m\u001b[0;34m,\u001b[0m \u001b[0;34m**\u001b[0m\u001b[0mkwargs\u001b[0m\u001b[0;34m)\u001b[0m\u001b[0;34m.\u001b[0m\u001b[0mwait\u001b[0m\u001b[0;34m(\u001b[0m\u001b[0;34m)\u001b[0m\u001b[0;34m\u001b[0m\u001b[0m\n\u001b[0m\u001b[1;32m    523\u001b[0m \u001b[0;34m\u001b[0m\u001b[0m\n\u001b[1;32m    524\u001b[0m \u001b[0;34m\u001b[0m\u001b[0m\n",
      "\u001b[0;32m/usr/local/Cellar/python/2.7.8_2/Frameworks/Python.framework/Versions/2.7/lib/python2.7/subprocess.pyc\u001b[0m in \u001b[0;36mwait\u001b[0;34m(self)\u001b[0m\n\u001b[1;32m   1374\u001b[0m             \u001b[0;32mwhile\u001b[0m \u001b[0mself\u001b[0m\u001b[0;34m.\u001b[0m\u001b[0mreturncode\u001b[0m \u001b[0;32mis\u001b[0m \u001b[0mNone\u001b[0m\u001b[0;34m:\u001b[0m\u001b[0;34m\u001b[0m\u001b[0m\n\u001b[1;32m   1375\u001b[0m                 \u001b[0;32mtry\u001b[0m\u001b[0;34m:\u001b[0m\u001b[0;34m\u001b[0m\u001b[0m\n\u001b[0;32m-> 1376\u001b[0;31m                     \u001b[0mpid\u001b[0m\u001b[0;34m,\u001b[0m \u001b[0msts\u001b[0m \u001b[0;34m=\u001b[0m \u001b[0m_eintr_retry_call\u001b[0m\u001b[0;34m(\u001b[0m\u001b[0mos\u001b[0m\u001b[0;34m.\u001b[0m\u001b[0mwaitpid\u001b[0m\u001b[0;34m,\u001b[0m \u001b[0mself\u001b[0m\u001b[0;34m.\u001b[0m\u001b[0mpid\u001b[0m\u001b[0;34m,\u001b[0m \u001b[0;36m0\u001b[0m\u001b[0;34m)\u001b[0m\u001b[0;34m\u001b[0m\u001b[0m\n\u001b[0m\u001b[1;32m   1377\u001b[0m                 \u001b[0;32mexcept\u001b[0m \u001b[0mOSError\u001b[0m \u001b[0;32mas\u001b[0m \u001b[0me\u001b[0m\u001b[0;34m:\u001b[0m\u001b[0;34m\u001b[0m\u001b[0m\n\u001b[1;32m   1378\u001b[0m                     \u001b[0;32mif\u001b[0m \u001b[0me\u001b[0m\u001b[0;34m.\u001b[0m\u001b[0merrno\u001b[0m \u001b[0;34m!=\u001b[0m \u001b[0merrno\u001b[0m\u001b[0;34m.\u001b[0m\u001b[0mECHILD\u001b[0m\u001b[0;34m:\u001b[0m\u001b[0;34m\u001b[0m\u001b[0m\n",
      "\u001b[0;32m/usr/local/Cellar/python/2.7.8_2/Frameworks/Python.framework/Versions/2.7/lib/python2.7/subprocess.pyc\u001b[0m in \u001b[0;36m_eintr_retry_call\u001b[0;34m(func, *args)\u001b[0m\n\u001b[1;32m    474\u001b[0m     \u001b[0;32mwhile\u001b[0m \u001b[0mTrue\u001b[0m\u001b[0;34m:\u001b[0m\u001b[0;34m\u001b[0m\u001b[0m\n\u001b[1;32m    475\u001b[0m         \u001b[0;32mtry\u001b[0m\u001b[0;34m:\u001b[0m\u001b[0;34m\u001b[0m\u001b[0m\n\u001b[0;32m--> 476\u001b[0;31m             \u001b[0;32mreturn\u001b[0m \u001b[0mfunc\u001b[0m\u001b[0;34m(\u001b[0m\u001b[0;34m*\u001b[0m\u001b[0margs\u001b[0m\u001b[0;34m)\u001b[0m\u001b[0;34m\u001b[0m\u001b[0m\n\u001b[0m\u001b[1;32m    477\u001b[0m         \u001b[0;32mexcept\u001b[0m \u001b[0;34m(\u001b[0m\u001b[0mOSError\u001b[0m\u001b[0;34m,\u001b[0m \u001b[0mIOError\u001b[0m\u001b[0;34m)\u001b[0m \u001b[0;32mas\u001b[0m \u001b[0me\u001b[0m\u001b[0;34m:\u001b[0m\u001b[0;34m\u001b[0m\u001b[0m\n\u001b[1;32m    478\u001b[0m             \u001b[0;32mif\u001b[0m \u001b[0me\u001b[0m\u001b[0;34m.\u001b[0m\u001b[0merrno\u001b[0m \u001b[0;34m==\u001b[0m \u001b[0merrno\u001b[0m\u001b[0;34m.\u001b[0m\u001b[0mEINTR\u001b[0m\u001b[0;34m:\u001b[0m\u001b[0;34m\u001b[0m\u001b[0m\n",
      "\u001b[0;31mKeyboardInterrupt\u001b[0m: "
     ]
    }
   ],
   "source": [
    "import helpers as h\n",
    "h.create_small_videos()"
   ]
  },
  {
   "cell_type": "code",
   "execution_count": 1,
   "metadata": {
    "collapsed": false
   },
   "outputs": [
    {
     "name": "stdout",
     "output_type": "stream",
     "text": [
      "['dining-at-the-met', 'goproad', 'grandteton', 'hong-kong-nytimes', 'mentos', 'tokyo']\n",
      "['goproad-small.mp4', 'grandteton-small.mp4', 'mentos-small.mp4', 'tokyo-small.mp4']\n",
      "Processing video: goproad-small\n",
      "video-frames-medium/goproad-small/00001.png\n",
      "video-frames-medium/goproad-small/00002.png\n",
      "video-frames-medium/goproad-small/00003.png\n",
      "video-frames-medium/goproad-small/00004.png\n",
      "video-frames-medium/goproad-small/00005.png\n",
      "video-frames-medium/goproad-small/00229.png\n",
      "video-frames-medium/goproad-small/00230.png\n",
      "video-frames-medium/goproad-small/00231.png\n",
      "video-frames-medium/goproad-small/00232.png\n",
      "video-frames-medium/goproad-small/00233.png\n",
      "video-frames-medium/goproad-small/00234.png\n",
      "video-frames-medium/goproad-small/00235.png\n",
      "video-frames-medium/goproad-small/00236.png\n",
      "video-frames-medium/goproad-small/00237.png\n",
      "video-frames-medium/goproad-small/00238.png\n",
      "video-frames-medium/goproad-small/00239.png\n",
      "video-frames-medium/goproad-small/00240.png\n",
      "video-frames-medium/goproad-small/00241.png\n",
      "video-frames-medium/goproad-small/00242.png\n",
      "video-frames-medium/goproad-small/00243.png\n",
      "Time to process: 240.429791927\n",
      "Processing video: grandteton-small\n",
      "video-frames-medium/grandteton-small/00001.png\n",
      "video-frames-medium/grandteton-small/00002.png\n",
      "video-frames-medium/grandteton-small/00003.png\n",
      "video-frames-medium/grandteton-small/00004.png\n",
      "video-frames-medium/grandteton-small/00005.png\n",
      "video-frames-medium/grandteton-small/00006.png\n",
      "video-frames-medium/grandteton-small/00119.png\n",
      "video-frames-medium/grandteton-small/00120.png\n",
      "video-frames-medium/grandteton-small/00121.png\n",
      "video-frames-medium/grandteton-small/00122.png\n",
      "video-frames-medium/grandteton-small/00123.png\n",
      "video-frames-medium/grandteton-small/00124.png\n",
      "video-frames-medium/grandteton-small/00125.png\n",
      "video-frames-medium/grandteton-small/00126.png\n",
      "Time to process: 126.954035997\n",
      "Processing video: mentos-small\n",
      "video-frames-medium/mentos-small/00001.png\n",
      "video-frames-medium/mentos-small/00002.png\n",
      "video-frames-medium/mentos-small/00003.png\n",
      "video-frames-medium/mentos-small/00004.png\n",
      "video-frames-medium/mentos-small/00005.png\n",
      "video-frames-medium/mentos-small/00006.png\n",
      "video-frames-medium/mentos-small/00007.png\n",
      "video-frames-medium/mentos-small/00008.png\n",
      "video-frames-medium/mentos-small/00009.png\n",
      "video-frames-medium/mentos-small/00010.png\n",
      "video-frames-medium/mentos-small/00253.png\n",
      "video-frames-medium/mentos-small/00254.png\n",
      "video-frames-medium/mentos-small/00255.png\n",
      "video-frames-medium/mentos-small/00256.png\n",
      "video-frames-medium/mentos-small/00257.png\n",
      "video-frames-medium/mentos-small/00258.png\n",
      "video-frames-medium/mentos-small/00259.png\n",
      "video-frames-medium/mentos-small/00260.png\n",
      "video-frames-medium/mentos-small/00261.png\n",
      "video-frames-medium/mentos-small/00262.png\n",
      "video-frames-medium/mentos-small/00263.png\n",
      "video-frames-medium/mentos-small/00264.png\n",
      "video-frames-medium/mentos-small/00300.png\n",
      "video-frames-medium/mentos-small/00301.png\n",
      "Time to process: 301.748976946\n",
      "Processing video: tokyo-small\n",
      "video-frames-medium/tokyo-small/00001.png\n",
      "video-frames-medium/tokyo-small/00002.png\n",
      "video-frames-medium/tokyo-small/00003.png\n",
      "video-frames-medium/tokyo-small/00004.png\n",
      "video-frames-medium/tokyo-small/00005.png\n",
      "video-frames-medium/tokyo-small/00205.png\n",
      "video-frames-medium/tokyo-small/00206.png\n",
      "video-frames-medium/tokyo-small/00207.png\n",
      "video-frames-medium/tokyo-small/00208.png\n",
      "video-frames-medium/tokyo-small/00209.png\n",
      "video-frames-medium/tokyo-small/00210.png\n",
      "video-frames-medium/tokyo-small/00211.png\n",
      "video-frames-medium/tokyo-small/00212.png\n",
      "Time to process: 213.861281872\n"
     ]
    },
    {
     "name": "stderr",
     "output_type": "stream",
     "text": [
      "../../../../../resources/pyimgsaliency/pyimgsaliency/saliency_mbd.py:214: RuntimeWarning: invalid value encountered in maximum\n",
      "  u_max = np.maximum(np.maximum(np.maximum(u_left,u_right),u_top),u_bottom)\n"
     ]
    }
   ],
   "source": [
    "%matplotlib inline\n",
    "import cv2\n",
    "from matplotlib import pyplot as plt\n",
    "import time\n",
    "\n",
    "import os, json, sys\n",
    "sys.path.append(\"../../../../../resources/pyimgsaliency/\")\n",
    "import pyimgsaliency as psal\n",
    "\n",
    "import scipy.misc, os\n",
    "import subprocess\n",
    "from PIL import Image\n",
    "\n",
    "VIDEO_FRAMES_ROOT = \"video-frames-medium/\"\n",
    "ANALYSIS_ROOT = \"analysis/image-saliency/\"\n",
    "VIDEO_ROOT = \"new-videos/\"\n",
    "\n",
    "time_ref = {\n",
    "    \"snowboarding\": [151.868109 + 29, 241],\n",
    "    \"hpo-preview\": [0, 60.5],\n",
    "    \"surfing\": [45, 105],\n",
    "    \"dining-at-the-met\": [30, 96],\n",
    "    \"knives\": [0,35],\n",
    "    \"trees\": [82,150],\n",
    "    \"invasion\": [120, 180],\n",
    "    \"ice-art\": [4,70],\n",
    "    \"volcano\": [93,160]\n",
    "}\n",
    "already_done = [f.split(\".json\")[0] for f in os.listdir(\"analysis/image-saliency/\") if f[0] != \".\"]\n",
    "bases = [f for f in os.listdir(\"video-frames/\") if \".\" not in f and f not in already_done][1:]\n",
    "print bases\n",
    "\n",
    "def get_immediate_subdirectories(a_dir):\n",
    "    return [name for name in os.listdir(a_dir)\n",
    "            if os.path.isdir(os.path.join(a_dir, name))]\n",
    "\n",
    "def any_base_in_fn(f): \n",
    "        for base in bases: \n",
    "            if base in f: \n",
    "                return True\n",
    "        return False\n",
    "\n",
    "all_videos = [v for v in os.listdir(VIDEO_ROOT) if \"small\" in v and v[0] !='.' if \"arctic\" not in v and \"congo\" not in v]\n",
    "all_videos = [v for v in all_videos if any_base_in_fn(v)]\n",
    "print all_videos\n",
    "\n",
    "for video in all_videos:\n",
    "    base = video.lower().split(\".mp4\")[0]\n",
    "    print \"Processing video:\", base\n",
    "    video_path = VIDEO_ROOT + video\n",
    "    video_frames_path = VIDEO_FRAMES_ROOT + base + \"/\"\n",
    "    \n",
    "    # delete any existing video frames\n",
    "    sub_directory_paths = [VIDEO_FRAMES_ROOT + p + \"/\" for p in get_immediate_subdirectories(VIDEO_FRAMES_ROOT)]\n",
    "    for d in sub_directory_paths: \n",
    "        for frame in os.listdir(d):\n",
    "            os.remove(d + frame)\n",
    "            \n",
    "    # make a new directory\n",
    "    if not os.path.exists(video_frames_path):\n",
    "        os.mkdir(video_frames_path)\n",
    "    \n",
    "    start_time = time.time()\n",
    "    \n",
    "    # split the video into smaller video frames\n",
    "    subprocess.call([\"ffmpeg\", \"-i\", video_path, \"-vf\", \"fps=2\", video_frames_path + \"%05d.png\"])\n",
    "    \n",
    "    analysis_path = ANALYSIS_ROOT + base + \"/\"\n",
    "    \n",
    "    # make a new directory\n",
    "    if not os.path.exists(analysis_path):\n",
    "        os.mkdir(analysis_path)\n",
    "    \n",
    "    # ok now we actually want to just take 2 frames per second\n",
    "    fns = [video_frames_path + fn for fn in os.listdir(video_frames_path) if \".png\" in fn]\n",
    "#     new_fns = []\n",
    "#     for i in range(len(fns)): \n",
    "#         fn = fns[i]\n",
    "#         if i % 15 == 0: \n",
    "#             new_fns.append(fn)\n",
    "#     fns = new_fns\n",
    "    \n",
    "    for frame_fn in fns: \n",
    "        out_fn = analysis_path + frame_fn.split(\"/\")[-1]\n",
    "        try: \n",
    "            sal_map = psal.get_saliency_mbd(frame_fn).astype('uint8')\n",
    "            im = Image.fromarray(sal_map)\n",
    "            im.save(out_fn)\n",
    "        except: \n",
    "            print frame_fn\n",
    "        \n",
    "    print \"Time to process:\", time.time() - start_time  "
   ]
  },
  {
   "cell_type": "markdown",
   "metadata": {},
   "source": [
    "##### rbd"
   ]
  },
  {
   "cell_type": "code",
   "execution_count": 2,
   "metadata": {
    "collapsed": false
   },
   "outputs": [
    {
     "data": {
      "text/plain": [
       "7"
      ]
     },
     "execution_count": 2,
     "metadata": {},
     "output_type": "execute_result"
    }
   ],
   "source": [
    "3 + 4"
   ]
  },
  {
   "cell_type": "code",
   "execution_count": null,
   "metadata": {
    "collapsed": true
   },
   "outputs": [],
   "source": []
  }
 ],
 "metadata": {
  "kernelspec": {
   "display_name": "Python 2",
   "language": "python",
   "name": "python2"
  },
  "language_info": {
   "codemirror_mode": {
    "name": "ipython",
    "version": 2
   },
   "file_extension": ".py",
   "mimetype": "text/x-python",
   "name": "python",
   "nbconvert_exporter": "python",
   "pygments_lexer": "ipython2",
   "version": "2.7.8"
  }
 },
 "nbformat": 4,
 "nbformat_minor": 0
}
